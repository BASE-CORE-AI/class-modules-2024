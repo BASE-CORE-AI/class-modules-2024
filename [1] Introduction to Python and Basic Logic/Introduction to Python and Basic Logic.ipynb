{
 "cells": [
  {
   "cell_type": "markdown",
   "id": "ed7721ad",
   "metadata": {},
   "source": [
    "# Introduction to Python and Basic Logic\n",
    "\n",
    "## 1. Introduction to Python\n",
    "\n",
    "### What is Python Used For?\n",
    "- Web Development\n",
    "- Automating Tasks\n",
    "- Data Analysis & Visualization\n",
    "- Game Development\n",
    "- Artificial Intelligence (AI)\n",
    "  - Machine Learning (ML)\n",
    "  - Natural Language Processing (NLP)\n",
    "  - Robotics\n",
    "\n",
    "---\n",
    "\n",
    "## 2. Variables and Data Types\n",
    "\n",
    "### Basic Data Types\n",
    "- `float`: Real numbers (e.g., `1.79`)\n",
    "- `int`: Integers (e.g., `5`)\n",
    "- `str`: Text (e.g., `\"Hello\"`)\n",
    "- `bool`: Boolean values (`True`/`False`)\n",
    "\n",
    "```python\n",
    "# Variable Assignment\n",
    "height = 1.79\n",
    "weight = 68.7\n",
    "name = \"Alice\"\n",
    "is_student = True\n",
    "\n",
    "# Check Data Types\n",
    "print(type(height))      # Output: <class 'float'>\n",
    "print(type(is_student))  # Output: <class 'bool'>"
   ]
  },
  {
   "cell_type": "markdown",
   "id": "cbf82465",
   "metadata": {},
   "source": [
    "## 3. Lists"
   ]
  },
  {
   "cell_type": "code",
   "execution_count": null,
   "id": "359cc8b2",
   "metadata": {},
   "outputs": [
    {
     "name": "stdout",
     "output_type": "stream",
     "text": [
      "['Liz', 1.73, 'Emma', 1.68, 'Mom', 1.71, 'Dad', 1.89]\n",
      "1.73\n",
      "[1.68, 'Mom']\n"
     ]
    }
   ],
   "source": [
    "# Create a list\n",
    "fam = [\"Liz\", 1.73, \"Emma\", 1.68, \"Mom\", 1.71, \"Dad\", 1.89]\n",
    "print(fam)  # Output: ['Liz', 1.73, 'Emma', 1.68, 'Mom', 1.71, 'Dad', 1.89]"
   ]
  },
  {
   "cell_type": "code",
   "execution_count": 5,
   "id": "a183814d",
   "metadata": {},
   "outputs": [
    {
     "name": "stdout",
     "output_type": "stream",
     "text": [
      "1.73\n",
      "[1.68, 'Mom']\n"
     ]
    }
   ],
   "source": [
    "# Subsetting\n",
    "print(fam[1])       # Output: 1.73 (index 1)\n",
    "print(fam[3:5])     # Output: [1.68, 'Mom'] (slicing)"
   ]
  },
  {
   "cell_type": "code",
   "execution_count": 7,
   "id": "5f8bcf0d",
   "metadata": {},
   "outputs": [
    {
     "name": "stdout",
     "output_type": "stream",
     "text": [
      "['Lisa', 1.73, 'Mom', 1.71, 'Dad', 1.89, 'Me', 'Me']\n"
     ]
    }
   ],
   "source": [
    "# Modify elements\n",
    "fam[0] = \"Lisa\"    # Change first element\n",
    "fam.append(\"Me\")   # Add new element\n",
    "del fam[2]         # Remove third element\n",
    "print(fam)  # Output: ['Lisa', 1.73, 'Mom', 1.71, 'Dad', 1.89, 'Me']"
   ]
  },
  {
   "cell_type": "markdown",
   "id": "48e732ee",
   "metadata": {},
   "source": [
    "## 4. Functions"
   ]
  },
  {
   "cell_type": "markdown",
   "id": "298ff0a9",
   "metadata": {},
   "source": [
    "Conditional Statements (if, elif, else)"
   ]
  },
  {
   "cell_type": "code",
   "execution_count": null,
   "id": "633ce8a1",
   "metadata": {},
   "outputs": [],
   "source": [
    "z = 6\n",
    "if z % 2 == 0:\n",
    "    print(\"z is even\")\n",
    "elif z % 3 == 0:\n",
    "    print(\"z is divisible by 3\")\n",
    "else:\n",
    "    print(\"z is neither\")\n",
    "# Output: z is even"
   ]
  },
  {
   "cell_type": "markdown",
   "id": "1ba2e46e",
   "metadata": {},
   "source": [
    "Boolean Operators (and, or, not)"
   ]
  },
  {
   "cell_type": "code",
   "execution_count": null,
   "id": "b54b5ae4",
   "metadata": {},
   "outputs": [],
   "source": [
    "x = 12\n",
    "print(x > 5 and x < 15)   # Output: True\n",
    "print(not False)          # Output: True"
   ]
  },
  {
   "cell_type": "markdown",
   "id": "7fbdb4ff",
   "metadata": {},
   "source": [
    "## 6. Loops"
   ]
  },
  {
   "cell_type": "markdown",
   "id": "749398b6",
   "metadata": {},
   "source": [
    "while Loop Example"
   ]
  },
  {
   "cell_type": "code",
   "execution_count": null,
   "id": "9e82cd0a",
   "metadata": {},
   "outputs": [],
   "source": [
    "error = 50.0\n",
    "while error > 1:\n",
    "    error = error / 4\n",
    "    print(error)\n",
    "# Output: 12.5, 3.125, 0.78125"
   ]
  },
  {
   "cell_type": "markdown",
   "id": "dd4ae3f5",
   "metadata": {},
   "source": [
    "for Loop Example"
   ]
  },
  {
   "cell_type": "code",
   "execution_count": null,
   "id": "bb6cedb3",
   "metadata": {},
   "outputs": [],
   "source": [
    "for height in heights:\n",
    "    print(height)\n",
    "# Output: 1.73, 1.68, 1.71, 1.89"
   ]
  },
  {
   "cell_type": "markdown",
   "id": "9d6b5de6",
   "metadata": {},
   "source": [
    "## Challenge"
   ]
  },
  {
   "cell_type": "markdown",
   "id": "03cb31f7",
   "metadata": {},
   "source": [
    "Rock-Paper-Scissors Game (Batu-Gunting-Kertas)\n",
    "\n",
    "    Task: Create a game where a user plays against the computer.\n",
    "\n",
    "    Rules:\n",
    "\n",
    "        Use Indonesian terms: \"Batu\" (Rock), \"Gunting\" (Scissors), \"Kertas\" (Paper).\n",
    "\n",
    "        Allow either USERVSKOMPUTER (User vs Computer) or USERVSUSER (User vs User) modes.\n",
    "\n",
    "        Implement logic to determine the winner based on standard Rock-Paper-Scissors rules."
   ]
  },
  {
   "cell_type": "markdown",
   "id": "12696b61",
   "metadata": {},
   "source": [
    "Example Starter Code for Rock-Paper-Scissors:"
   ]
  },
  {
   "cell_type": "code",
   "execution_count": null,
   "id": "d423cd3c",
   "metadata": {},
   "outputs": [],
   "source": [
    "import random\n",
    "\n",
    "choices = [\"batu\", \"gunting\", \"kertas\"]\n",
    "user_choice = input(\"Pilih batu/gunting/kertas: \").lower()\n",
    "computer_choice = random.choice(choices)\n",
    "\n",
    "if user_choice in choices:\n",
    "    if user_choice == computer_choice:\n",
    "        print(\"Seri!\")\n",
    "    elif (user_choice == \"batu\" and computer_choice == \"gunting\") or \\\n",
    "         (user_choice == \"gunting\" and computer_choice == \"kertas\") or \\\n",
    "         (user_choice == \"kertas\" and computer_choice == \"batu\"):\n",
    "        print(f\"Anda menang! Komputer memilih {computer_choice}.\")\n",
    "    else:\n",
    "        print(f\"Anda kalah! Komputer memilih {computer_choice}.\")\n",
    "else:\n",
    "    print(\"Input tidak valid!\")"
   ]
  }
 ],
 "metadata": {
  "kernelspec": {
   "display_name": "Python 3",
   "language": "python",
   "name": "python3"
  },
  "language_info": {
   "codemirror_mode": {
    "name": "ipython",
    "version": 3
   },
   "file_extension": ".py",
   "mimetype": "text/x-python",
   "name": "python",
   "nbconvert_exporter": "python",
   "pygments_lexer": "ipython3",
   "version": "3.12.6"
  }
 },
 "nbformat": 4,
 "nbformat_minor": 5
}
