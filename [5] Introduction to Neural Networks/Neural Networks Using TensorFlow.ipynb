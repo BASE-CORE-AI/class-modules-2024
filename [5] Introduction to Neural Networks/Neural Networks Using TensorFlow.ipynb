{
 "cells": [
  {
   "cell_type": "markdown",
   "metadata": {
    "id": "9K1TNiYG69d-"
   },
   "source": [
    "###**[4] Neural Networks Using TensorFlow**\n",
    "\n",
    "**Objective:**\n",
    "In this lecture, you will learn the basics of neural networks and how to implement them using Python.\n",
    "\n",
    "We will focus on understanding the structure of a neural network and how to build and train one using TensorFlow/Keras, a popular machine learning library.\n",
    "\n"
   ]
  },
  {
   "cell_type": "markdown",
   "metadata": {
    "id": "VZdm-5vG7Ljn"
   },
   "source": [
    "### **1. What is a Neural Network?**\n",
    "\n",
    "A **Neural Network** is a machine learning model inspired by the structure and function of the human brain. It consists of layers of nodes (also called neurons), which are connected in a way that allows the network to learn patterns from data.\n",
    "\n",
    "#### **Key Components of a Neural Network:**\n",
    "- **Neurons**: Basic units of a neural network that take input, apply a mathematical operation, and produce an output.\n",
    "- **Layers**: A neural network is made up of layers of neurons:\n",
    "  - **Input Layer**: Takes the input features (e.g., pixels in an image, numerical data).\n",
    "  - **Hidden Layers**: Intermediate layers that process the input data by applying weights and activation functions.\n",
    "  - **Output Layer**: Produces the final predictions (e.g., class probabilities for classification).\n",
    "  \n",
    "- **Weights**: Parameters that are adjusted during training to minimize the error in predictions.\n",
    "- **Bias**: An additional parameter added to the weighted sum before applying an activation function, helping the model fit the data better.\n",
    "- **Activation Function**: A mathematical function that determines whether a neuron should be activa ted or not (common examples: Sigmoid, ReLU).\n",
    "\n",
    "#### **How Neural Networks Learn**:\n",
    "- Neural networks learn by adjusting weights and biases through a process called **training**.\n",
    "- The training is done using an algorithm called **backpropagation**, which updates the parameters in the network based on the error from the predictions."
   ]
  },
  {
   "cell_type": "markdown",
   "metadata": {
    "id": "O99Ok_Ld7hzq"
   },
   "source": [
    "### **2. Structure of a Neural Network:**\n",
    "Here’s a simple structure of a neural network for classification:\n",
    "\n",
    "- **Input Layer**: The number of neurons corresponds to the number of features (e.g., 28x28 pixels for images in the MNIST dataset).\n",
    "- **Hidden Layer(s)**: One or more layers, each with a certain number of neurons. These layers transform the input data into higher-level features.\n",
    "- **Output Layer**: For a classification task, the number of neurons equals the number of possible classes (e.g., 10 for digit classification in MNIST).\n",
    "\n",
    "Example (for MNIST digit classification):\n",
    "\n",
    "- **Input Layer**: 28x28 pixels = 784 input neurons.\n",
    "- **Hidden Layer**: 128 neurons (can vary).\n",
    "- **Output Layer**: 10 neurons, each corresponding to one of the digits 0-9."
   ]
  },
  {
   "cell_type": "markdown",
   "metadata": {
    "id": "4T9It2Gl7k05"
   },
   "source": [
    "### **3. Introduction to TensorFlow/Keras**\n",
    "\n",
    "**TensorFlow** is an open-source machine learning library developed by Google, and **Keras** is a high-level API built on top of TensorFlow that makes building neural networks easier.\n",
    "\n",
    "#### **Key Features of Keras**:\n",
    "- **Easy Model Building**: You can define neural networks with just a few lines of code.\n",
    "- **Model Training**: Keras provides built-in functions to train models with various optimization algorithms.\n",
    "- **Pre-built Models**: Keras includes a variety of pre-built models and layers, making it easy to experiment and deploy neural networks."
   ]
  },
  {
   "cell_type": "markdown",
   "metadata": {
    "id": "xHWbiNOA7nsu"
   },
   "source": [
    "### **4. Building a Simple Neural Network Using TensorFlow/Keras**\n",
    "\n",
    "We will now create a simple neural network using TensorFlow/Keras to classify hand-written digits from the **MNIST dataset**.\n",
    "\n",
    "#### **Step-by-step Guide**:"
   ]
  },
  {
   "cell_type": "markdown",
   "metadata": {
    "id": "jeV6p65P7pwh"
   },
   "source": [
    "1. **Import Required Libraries:**"
   ]
  },
  {
   "cell_type": "code",
   "execution_count": 4,
   "metadata": {
    "executionInfo": {
     "elapsed": 546,
     "status": "ok",
     "timestamp": 1733917413363,
     "user": {
      "displayName": "Archard Garcia",
      "userId": "08577477291488026320"
     },
     "user_tz": -420
    },
    "id": "8k04oXw_2tXy"
   },
   "outputs": [],
   "source": [
    "import tensorflow as tf\n",
    "from tensorflow.keras import layers, models\n"
   ]
  },
  {
   "cell_type": "markdown",
   "metadata": {
    "id": "7lB1RA7Q7rG3"
   },
   "source": [
    "2. **Load and Preprocess the MNIST Dataset**:\n",
    "\n",
    "The MNIST dataset consists of 28x28 grayscale images of handwritten digits (0-9). The dataset is already available in TensorFlow."
   ]
  },
  {
   "cell_type": "code",
   "execution_count": 5,
   "metadata": {
    "colab": {
     "base_uri": "https://localhost:8080/"
    },
    "executionInfo": {
     "elapsed": 1085,
     "status": "ok",
     "timestamp": 1733917415898,
     "user": {
      "displayName": "Archard Garcia",
      "userId": "08577477291488026320"
     },
     "user_tz": -420
    },
    "id": "7Q8W5Juq3H5R",
    "outputId": "3804f1f7-0c00-477b-bb38-bd6950c56020"
   },
   "outputs": [
    {
     "name": "stdout",
     "output_type": "stream",
     "text": [
      "Downloading data from https://storage.googleapis.com/tensorflow/tf-keras-datasets/mnist.npz\n",
      "\u001b[1m11490434/11490434\u001b[0m \u001b[32m━━━━━━━━━━━━━━━━━━━━\u001b[0m\u001b[37m\u001b[0m \u001b[1m0s\u001b[0m 0us/step\n"
     ]
    }
   ],
   "source": [
    "# Load the MNIST dataset\n",
    "(x_train, y_train), (x_test, y_test) = tf.keras.datasets.mnist.load_data()\n",
    "\n",
    "# Normalize the data to be between 0 and 1\n",
    "x_train, x_test = x_train / 255.0, x_test / 255.0\n",
    "\n",
    "# Reshape the data to include a channel dimension (1 channel for grayscale)\n",
    "x_train = x_train.reshape((x_train.shape[0], 28, 28, 1))\n",
    "x_test = x_test.reshape((x_test.shape[0], 28, 28, 1))"
   ]
  },
  {
   "cell_type": "markdown",
   "metadata": {
    "id": "Z_H6Q5S21-em"
   },
   "source": [
    "Reshaping the MNIST dataset is performed to change the shape of the data so that it fits the expected input format for a Convolutional Neural Network (CNN) or any other deep learning model that processes image data.\n",
    "\n",
    "The `reshape` operation changes the shape of the data to `(number_of_samples, 28, 28, 1)`, where the `1` represents the **channel dimension** (since the images are grayscale and only have one color channel).\n",
    "\n",
    "   - This reshaping is necessary because many deep learning libraries (including TensorFlow) expect image data to have a 4D shape: `(batch_size, height, width, channels)`.\n",
    "     - `batch_size`: The number of images in a batch.\n",
    "     - `height` and `width`: The dimensions of each image (28x28 pixels in this case).\n",
    "     - `channels`: The number of color channels (1 for grayscale, 3 for RGB, etc.)."
   ]
  },
  {
   "cell_type": "code",
   "execution_count": 6,
   "metadata": {
    "colab": {
     "base_uri": "https://localhost:8080/",
     "height": 241
    },
    "executionInfo": {
     "elapsed": 1177,
     "status": "ok",
     "timestamp": 1733917419470,
     "user": {
      "displayName": "Archard Garcia",
      "userId": "08577477291488026320"
     },
     "user_tz": -420
    },
    "id": "1kOziKMH5LGK",
    "outputId": "b1c4585a-f689-4551-f014-c6d8c763da59"
   },
   "outputs": [
    {
     "data": {
      "image/png": "[encoded data removed]",
      "text/plain": [
       "<Figure size 1000x500 with 5 Axes>"
      ]
     },
     "metadata": {},
     "output_type": "display_data"
    }
   ],
   "source": [
    "import matplotlib.pyplot as plt\n",
    "\n",
    "# Number of images to display\n",
    "num_images = 5\n",
    "\n",
    "# Displaying random images from the training set\n",
    "plt.figure(figsize=(10, 5))\n",
    "\n",
    "# Loop to display the images\n",
    "for i in range(num_images):\n",
    "    plt.subplot(1, num_images, i+1)  # Create a subplot (1 row, num_images columns)\n",
    "    plt.imshow(x_train[i].reshape(28, 28), cmap='gray')  # Reshape and plot each image\n",
    "    plt.title(f\"Label: {y_train[i]}\")  # Show the label\n",
    "    plt.axis('off')  # Turn off axis labels\n",
    "\n",
    "# Show the images\n",
    "plt.tight_layout()\n",
    "plt.show()"
   ]
  },
  {
   "cell_type": "markdown",
   "metadata": {
    "id": "hJK3BADI5tKp"
   },
   "source": [
    "**Explanation:**\n",
    "\n",
    "- ``plt.subplot(1, num_images, i+1)``: Creates a row with multiple columns to show several images side by side.\n",
    "\n",
    "- ``plt.imshow(x_train[i].reshape(28, 28), cmap='gray')``: Reshapes the image from the 28x28x1 format back to 28x28 and plots it using grayscale (cmap='gray').\n",
    "\n",
    "- ``plt.title(f\"Label: {y_train[i]}\")``: Displays the true label for each image."
   ]
  },
  {
   "cell_type": "markdown",
   "metadata": {
    "id": "IyY6x7mP755x"
   },
   "source": [
    "3. **Define the Neural Network Model:**\n",
    "\n",
    "We’ll create a simple feedforward neural network (fully connected layers). You can experiment with more complex architectures later."
   ]
  },
  {
   "cell_type": "code",
   "execution_count": 7,
   "metadata": {
    "colab": {
     "base_uri": "https://localhost:8080/"
    },
    "executionInfo": {
     "elapsed": 361,
     "status": "ok",
     "timestamp": 1733917422440,
     "user": {
      "displayName": "Archard Garcia",
      "userId": "08577477291488026320"
     },
     "user_tz": -420
    },
    "id": "b-NiW7-63VMK",
    "outputId": "a4134019-69e6-4ba9-ddcf-f7118fa301c3"
   },
   "outputs": [
    {
     "name": "stderr",
     "output_type": "stream",
     "text": [
      "/usr/local/lib/python3.10/dist-packages/keras/src/layers/reshaping/flatten.py:37: UserWarning: Do not pass an `input_shape`/`input_dim` argument to a layer. When using Sequential models, prefer using an `Input(shape)` object as the first layer in the model instead.\n",
      "  super().__init__(**kwargs)\n"
     ]
    }
   ],
   "source": [
    "model = models.Sequential([\n",
    "    layers.Flatten(input_shape=(28, 28)),  # Flatten the 28x28 images into 1D vector\n",
    "    layers.Dense(128, activation='relu'),  # Fully connected layer with 128 neurons and ReLU activation\n",
    "    layers.Dense(10, activation='softmax')  # Output layer with 10 neurons for the 10 classes (digits 0-9)\n",
    "])"
   ]
  },
  {
   "cell_type": "markdown",
   "metadata": {
    "id": "GYjbGidV2cJ0"
   },
   "source": [
    "- **`layers.Flatten(input_shape=(28, 28))`**:\n",
    "   - This layer flattens each 28x28 pixel image into a 1D vector of 784 values (28 * 28 = 784). This is necessary because the fully connected layers expect 1D input, not 2D (images).\n",
    "\n",
    "- **`layers.Dense(128, activation='relu')`**:\n",
    "   - A **fully connected layer** with 128 neurons. Each neuron in this layer receives input from every element in the flattened input vector.\n",
    "   - The `activation='relu'` means it uses the **ReLU (Rectified Linear Unit)** activation function, which helps introduce non-linearity to the model and allows it to learn complex patterns.\n",
    "\n",
    "- **`layers.Dense(10, activation='softmax')`**:\n",
    "   - The output layer, which has 10 neurons, one for each possible digit (0-9).\n",
    "   - The `activation='softmax'` means that the output will represent a probability distribution across the 10 classes. Each output value will be between 0 and 1, and the sum of all outputs will equal 1. This is useful for classification tasks, as the model will output the probability of each class.\n",
    "\n",
    "\n",
    "The model takes a 28x28 pixel image, flattens it, passes it through a hidden layer with 128 neurons (using ReLU activation), and then outputs probabilities for the 10 possible digits (0-9) using softmax activation."
   ]
  },
  {
   "cell_type": "markdown",
   "metadata": {
    "id": "rp2eohk178ii"
   },
   "source": [
    "4. **Compile the Model:**\n",
    "\n",
    "The model needs to be compiled with a loss function, optimizer, and evaluation metric."
   ]
  },
  {
   "cell_type": "code",
   "execution_count": 8,
   "metadata": {
    "executionInfo": {
     "elapsed": 330,
     "status": "ok",
     "timestamp": 1733917425565,
     "user": {
      "displayName": "Archard Garcia",
      "userId": "08577477291488026320"
     },
     "user_tz": -420
    },
    "id": "eCt761Uj3Zzi"
   },
   "outputs": [],
   "source": [
    "model.compile(optimizer='adam',\n",
    "              loss='sparse_categorical_crossentropy',\n",
    "              metrics=['accuracy'])"
   ]
  },
  {
   "cell_type": "markdown",
   "metadata": {
    "id": "ldN9LRj67_HO"
   },
   "source": [
    "**Explaination:**\n",
    "\n",
    "- **Optimizer**: Adam is a popular optimizer that adapts the learning rate during training.\n",
    "- **Loss Function**: Sparse categorical cross-entropy is used for multi-class classification.\n",
    "- **Metrics**: Accuracy is used to evaluate the performance of the model."
   ]
  },
  {
   "cell_type": "markdown",
   "metadata": {
    "id": "eYzz_U3q8ELj"
   },
   "source": [
    "5. **Train the Model:**\n",
    "\n",
    "Now, we can train the model using the training data."
   ]
  },
  {
   "cell_type": "code",
   "execution_count": 9,
   "metadata": {
    "colab": {
     "base_uri": "https://localhost:8080/"
    },
    "executionInfo": {
     "elapsed": 47360,
     "status": "ok",
     "timestamp": 1733917476931,
     "user": {
      "displayName": "Archard Garcia",
      "userId": "08577477291488026320"
     },
     "user_tz": -420
    },
    "id": "ATLpHBDZ3bzX",
    "outputId": "0c0154f9-3a8b-4850-89b4-4d5767e18f4d"
   },
   "outputs": [
    {
     "name": "stdout",
     "output_type": "stream",
     "text": [
      "Epoch 1/5\n",
      "\u001b[1m1875/1875\u001b[0m \u001b[32m━━━━━━━━━━━━━━━━━━━━\u001b[0m\u001b[37m\u001b[0m \u001b[1m10s\u001b[0m 5ms/step - accuracy: 0.8726 - loss: 0.4539\n",
      "Epoch 2/5\n",
      "\u001b[1m1875/1875\u001b[0m \u001b[32m━━━━━━━━━━━━━━━━━━━━\u001b[0m\u001b[37m\u001b[0m \u001b[1m10s\u001b[0m 4ms/step - accuracy: 0.9641 - loss: 0.1216\n",
      "Epoch 3/5\n",
      "\u001b[1m1875/1875\u001b[0m \u001b[32m━━━━━━━━━━━━━━━━━━━━\u001b[0m\u001b[37m\u001b[0m \u001b[1m9s\u001b[0m 4ms/step - accuracy: 0.9756 - loss: 0.0807\n",
      "Epoch 4/5\n",
      "\u001b[1m1875/1875\u001b[0m \u001b[32m━━━━━━━━━━━━━━━━━━━━\u001b[0m\u001b[37m\u001b[0m \u001b[1m7s\u001b[0m 4ms/step - accuracy: 0.9838 - loss: 0.0552\n",
      "Epoch 5/5\n",
      "\u001b[1m1875/1875\u001b[0m \u001b[32m━━━━━━━━━━━━━━━━━━━━\u001b[0m\u001b[37m\u001b[0m \u001b[1m8s\u001b[0m 4ms/step - accuracy: 0.9875 - loss: 0.0426\n"
     ]
    },
    {
     "data": {
      "text/plain": [
       "<keras.src.callbacks.history.History at 0x7ddd91f445e0>"
      ]
     },
     "execution_count": 9,
     "metadata": {},
     "output_type": "execute_result"
    }
   ],
   "source": [
    "model.fit(x_train, y_train, epochs=5)  # Train for 5 epochs"
   ]
  },
  {
   "cell_type": "markdown",
   "metadata": {
    "id": "MYjEyZO54u_D"
   },
   "source": [
    "**Accuracy:**\n",
    "\n",
    "Accuracy measures how often the model's predictions are correct. It is the percentage of correctly classified instances out of the total number of instances.\n",
    "\n",
    "In this case, the model accuracy increases, indicating that the model is becoming better at classifying the MNIST images correctly as training progresses.\n",
    "\n",
    "**Loss:**\n",
    "\n",
    "Loss (often referred to as \"cost\") is a measure of how far off the model's predictions are from the true values. It quantifies the error made by the model in each prediction.\n",
    "\n",
    "In the output, the loss decreases, showing that the model is reducing the error as it learns over the epochs.\n",
    "\n",
    "Common loss functions include categorical crossentropy (for classification tasks) and mean squared error (for regression tasks). In this case, it’s likely categorical crossentropy because you're performing a classification task with 10 output classes."
   ]
  },
  {
   "cell_type": "markdown",
   "metadata": {
    "id": "3F3MBTlF8Gp1"
   },
   "source": [
    "6. **Evaluate the Model:**\n",
    "\n",
    "After training, we can evaluate the model’s performance on the test data."
   ]
  },
  {
   "cell_type": "code",
   "execution_count": 10,
   "metadata": {
    "colab": {
     "base_uri": "https://localhost:8080/"
    },
    "executionInfo": {
     "elapsed": 1781,
     "status": "ok",
     "timestamp": 1733917480805,
     "user": {
      "displayName": "Archard Garcia",
      "userId": "08577477291488026320"
     },
     "user_tz": -420
    },
    "id": "Xdlb37z_8S21",
    "outputId": "7d9c1137-c0c8-4375-a653-19b7bc76ae1d"
   },
   "outputs": [
    {
     "name": "stdout",
     "output_type": "stream",
     "text": [
      "\u001b[1m313/313\u001b[0m \u001b[32m━━━━━━━━━━━━━━━━━━━━\u001b[0m\u001b[37m\u001b[0m \u001b[1m1s\u001b[0m 2ms/step - accuracy: 0.9725 - loss: 0.0964\n",
      "Test accuracy: 0.9771999716758728\n"
     ]
    }
   ],
   "source": [
    "test_loss, test_acc = model.evaluate(x_test, y_test)\n",
    "print(f'Test accuracy: {test_acc}')\n"
   ]
  },
  {
   "cell_type": "code",
   "execution_count": 11,
   "metadata": {
    "colab": {
     "base_uri": "https://localhost:8080/",
     "height": 466
    },
    "executionInfo": {
     "elapsed": 615,
     "status": "ok",
     "timestamp": 1733917482798,
     "user": {
      "displayName": "Archard Garcia",
      "userId": "08577477291488026320"
     },
     "user_tz": -420
    },
    "id": "3j8oPxca3eXw",
    "outputId": "aaab6840-7ab9-4aeb-bddc-2f59fffa2a32"
   },
   "outputs": [
    {
     "data": {
      "image/png": "[encoded data removed]",
      "text/plain": [
       "<Figure size 640x480 with 1 Axes>"
      ]
     },
     "metadata": {},
     "output_type": "display_data"
    },
    {
     "name": "stdout",
     "output_type": "stream",
     "text": [
      "\u001b[1m1/1\u001b[0m \u001b[32m━━━━━━━━━━━━━━━━━━━━\u001b[0m\u001b[37m\u001b[0m \u001b[1m0s\u001b[0m 52ms/step\n",
      "Predicted label: 7, Actual label: 7\n"
     ]
    }
   ],
   "source": [
    "import matplotlib.pyplot as plt\n",
    "# Get the first image from the test set\n",
    "plt.imshow(x_test[0].reshape(28, 28), cmap='gray')\n",
    "plt.show()\n",
    "\n",
    "# Predict the digit\n",
    "pred = model.predict(x_test[:1])\n",
    "predicted_label = pred.argmax()\n",
    "print(f'Predicted label: {predicted_label}, Actual label: {y_test[0]}')"
   ]
  },
  {
   "cell_type": "markdown",
   "metadata": {
    "id": "frGrbNdx8Jot"
   },
   "source": [
    "### **5. Visualizing the Results**\n",
    "\n",
    "You can visualize how the neural network performs by predicting on test data and plotting some sample images."
   ]
  },
  {
   "cell_type": "code",
   "execution_count": 12,
   "metadata": {
    "colab": {
     "base_uri": "https://localhost:8080/",
     "height": 442
    },
    "executionInfo": {
     "elapsed": 1111,
     "status": "ok",
     "timestamp": 1733917491163,
     "user": {
      "displayName": "Archard Garcia",
      "userId": "08577477291488026320"
     },
     "user_tz": -420
    },
    "id": "67pkdXmD4a51",
    "outputId": "aaea9dd9-0098-4621-eaf5-c2436cfff8e0"
   },
   "outputs": [
    {
     "name": "stdout",
     "output_type": "stream",
     "text": [
      "\u001b[1m1/1\u001b[0m \u001b[32m━━━━━━━━━━━━━━━━━━━━\u001b[0m\u001b[37m\u001b[0m \u001b[1m0s\u001b[0m 21ms/step\n",
      "Index: 1405, Predicted: 5, Actual: 5\n",
      "\u001b[1m1/1\u001b[0m \u001b[32m━━━━━━━━━━━━━━━━━━━━\u001b[0m\u001b[37m\u001b[0m \u001b[1m0s\u001b[0m 21ms/step\n",
      "Index: 873, Predicted: 2, Actual: 2\n",
      "\u001b[1m1/1\u001b[0m \u001b[32m━━━━━━━━━━━━━━━━━━━━\u001b[0m\u001b[37m\u001b[0m \u001b[1m0s\u001b[0m 25ms/step\n",
      "Index: 153, Predicted: 5, Actual: 5\n",
      "\u001b[1m1/1\u001b[0m \u001b[32m━━━━━━━━━━━━━━━━━━━━\u001b[0m\u001b[37m\u001b[0m \u001b[1m0s\u001b[0m 20ms/step\n",
      "Index: 9839, Predicted: 7, Actual: 2\n",
      "\u001b[1m1/1\u001b[0m \u001b[32m━━━━━━━━━━━━━━━━━━━━\u001b[0m\u001b[37m\u001b[0m \u001b[1m0s\u001b[0m 20ms/step\n",
      "Index: 9209, Predicted: 2, Actual: 2\n"
     ]
    },
    {
     "data": {
      "image/png": "[encoded data removed]",
      "text/plain": [
       "<Figure size 1000x500 with 5 Axes>"
      ]
     },
     "metadata": {},
     "output_type": "display_data"
    }
   ],
   "source": [
    "import numpy as np\n",
    "# Set a random seed for reproducibility (optional)\n",
    "np.random.seed()\n",
    "\n",
    "# Get 5 random indices from the test set\n",
    "random_indices = np.random.choice(x_test.shape[0], 5, replace=False)\n",
    "\n",
    "# Create a figure to show the 5 random images and their predictions\n",
    "plt.figure(figsize=(10, 5))\n",
    "\n",
    "# Loop through the random indices and display the images\n",
    "for i, index in enumerate(random_indices):\n",
    "    plt.subplot(1, 5, i+1)  # Create a subplot with 1 row and 5 columns\n",
    "    plt.imshow(x_test[index].reshape(28, 28), cmap='gray')\n",
    "    # Add the dataset index, label, and prediction to the title\n",
    "    plt.title(f\"Index: {index}\\nLabel: {y_test[index]}\")\n",
    "    plt.axis('off')  # Hide axis for better visualization\n",
    "\n",
    "    # Predict the digit\n",
    "    pred = model.predict(x_test[index:index+1])  # Predict for the single image\n",
    "    predicted_label = pred.argmax()  # Get the predicted label (class)\n",
    "\n",
    "    # Print the predicted and actual labels along with the index\n",
    "    print(f'Index: {index}, Predicted: {predicted_label}, Actual: {y_test[index]}')\n",
    "\n",
    "# Show the plot with 5 images\n",
    "plt.tight_layout()\n",
    "plt.show()\n"
   ]
  },
  {
   "cell_type": "markdown",
   "metadata": {
    "id": "5ENyn_rt6AvY"
   },
   "source": [
    "### **Explanation of Random Sampling**:\n",
    "- `np.random.choice(x_train.shape[0], 5, replace=False)`: Selects 5 random indices from the training set without repeating them (`replace=False`).\n",
    "- The images at those random indices are then displayed with their corresponding labels."
   ]
  },
  {
   "cell_type": "code",
   "execution_count": 13,
   "metadata": {
    "colab": {
     "base_uri": "https://localhost:8080/",
     "height": 404
    },
    "executionInfo": {
     "elapsed": 12116,
     "status": "error",
     "timestamp": 1733917507718,
     "user": {
      "displayName": "Archard Garcia",
      "userId": "08577477291488026320"
     },
     "user_tz": -420
    },
    "id": "HjX9kFspA5mO",
    "outputId": "b8eb869c-3f5f-4053-87fe-4985820905b1"
   },
   "outputs": [
    {
     "data": {
      "text/html": [
       "\n",
       "     <input type=\"file\" id=\"files-fdd69ef0-2f92-4dd1-a6b5-0d227a5315a5\" name=\"files[]\" multiple disabled\n",
       "        style=\"border:none\" />\n",
       "     <output id=\"result-fdd69ef0-2f92-4dd1-a6b5-0d227a5315a5\">\n",
       "      Upload widget is only available when the cell has been executed in the\n",
       "      current browser session. Please rerun this cell to enable.\n",
       "      </output>\n",
       "      <script>// Copyright 2017 Google LLC\n",
       "//\n",
       "// Licensed under the Apache License, Version 2.0 (the \"License\");\n",
       "// you may not use this file except in compliance with the License.\n",
       "// You may obtain a copy of the License at\n",
       "//\n",
       "//      http://www.apache.org/licenses/LICENSE-2.0\n",
       "//\n",
       "// Unless required by applicable law or agreed to in writing, software\n",
       "// distributed under the License is distributed on an \"AS IS\" BASIS,\n",
       "// WITHOUT WARRANTIES OR CONDITIONS OF ANY KIND, either express or implied.\n",
       "// See the License for the specific language governing permissions and\n",
       "// limitations under the License.\n",
       "\n",
       "/**\n",
       " * @fileoverview Helpers for google.colab Python module.\n",
       " */\n",
       "(function(scope) {\n",
       "function span(text, styleAttributes = {}) {\n",
       "  const element = document.createElement('span');\n",
       "  element.textContent = text;\n",
       "  for (const key of Object.keys(styleAttributes)) {\n",
       "    element.style[key] = styleAttributes[key];\n",
       "  }\n",
       "  return element;\n",
       "}\n",
       "\n",
       "// Max number of bytes which will be uploaded at a time.\n",
       "const MAX_PAYLOAD_SIZE = 100 * 1024;\n",
       "\n",
       "function _uploadFiles(inputId, outputId) {\n",
       "  const steps = uploadFilesStep(inputId, outputId);\n",
       "  const outputElement = document.getElementById(outputId);\n",
       "  // Cache steps on the outputElement to make it available for the next call\n",
       "  // to uploadFilesContinue from Python.\n",
       "  outputElement.steps = steps;\n",
       "\n",
       "  return _uploadFilesContinue(outputId);\n",
       "}\n",
       "\n",
       "// This is roughly an async generator (not supported in the browser yet),\n",
       "// where there are multiple asynchronous steps and the Python side is going\n",
       "// to poll for completion of each step.\n",
       "// This uses a Promise to block the python side on completion of each step,\n",
       "// then passes the result of the previous step as the input to the next step.\n",
       "function _uploadFilesContinue(outputId) {\n",
       "  const outputElement = document.getElementById(outputId);\n",
       "  const steps = outputElement.steps;\n",
       "\n",
       "  const next = steps.next(outputElement.lastPromiseValue);\n",
       "  return Promise.resolve(next.value.promise).then((value) => {\n",
       "    // Cache the last promise value to make it available to the next\n",
       "    // step of the generator.\n",
       "    outputElement.lastPromiseValue = value;\n",
       "    return next.value.response;\n",
       "  });\n",
       "}\n",
       "\n",
       "/**\n",
       " * Generator function which is called between each async step of the upload\n",
       " * process.\n",
       " * @param {string} inputId Element ID of the input file picker element.\n",
       " * @param {string} outputId Element ID of the output display.\n",
       " * @return {!Iterable<!Object>} Iterable of next steps.\n",
       " */\n",
       "function* uploadFilesStep(inputId, outputId) {\n",
       "  const inputElement = document.getElementById(inputId);\n",
       "  inputElement.disabled = false;\n",
       "\n",
       "  const outputElement = document.getElementById(outputId);\n",
       "  outputElement.innerHTML = '';\n",
       "\n",
       "  const pickedPromise = new Promise((resolve) => {\n",
       "    inputElement.addEventListener('change', (e) => {\n",
       "      resolve(e.target.files);\n",
       "    });\n",
       "  });\n",
       "\n",
       "  const cancel = document.createElement('button');\n",
       "  inputElement.parentElement.appendChild(cancel);\n",
       "  cancel.textContent = 'Cancel upload';\n",
       "  const cancelPromise = new Promise((resolve) => {\n",
       "    cancel.onclick = () => {\n",
       "      resolve(null);\n",
       "    };\n",
       "  });\n",
       "\n",
       "  // Wait for the user to pick the files.\n",
       "  const files = yield {\n",
       "    promise: Promise.race([pickedPromise, cancelPromise]),\n",
       "    response: {\n",
       "      action: 'starting',\n",
       "    }\n",
       "  };\n",
       "\n",
       "  cancel.remove();\n",
       "\n",
       "  // Disable the input element since further picks are not allowed.\n",
       "  inputElement.disabled = true;\n",
       "\n",
       "  if (!files) {\n",
       "    return {\n",
       "      response: {\n",
       "        action: 'complete',\n",
       "      }\n",
       "    };\n",
       "  }\n",
       "\n",
       "  for (const file of files) {\n",
       "    const li = document.createElement('li');\n",
       "    li.append(span(file.name, {fontWeight: 'bold'}));\n",
       "    li.append(span(\n",
       "        `(${file.type || 'n/a'}) - ${file.size} bytes, ` +\n",
       "        `last modified: ${\n",
       "            file.lastModifiedDate ? file.lastModifiedDate.toLocaleDateString() :\n",
       "                                    'n/a'} - `));\n",
       "    const percent = span('0% done');\n",
       "    li.appendChild(percent);\n",
       "\n",
       "    outputElement.appendChild(li);\n",
       "\n",
       "    const fileDataPromise = new Promise((resolve) => {\n",
       "      const reader = new FileReader();\n",
       "      reader.onload = (e) => {\n",
       "        resolve(e.target.result);\n",
       "      };\n",
       "      reader.readAsArrayBuffer(file);\n",
       "    });\n",
       "    // Wait for the data to be ready.\n",
       "    let fileData = yield {\n",
       "      promise: fileDataPromise,\n",
       "      response: {\n",
       "        action: 'continue',\n",
       "      }\n",
       "    };\n",
       "\n",
       "    // Use a chunked sending to avoid message size limits. See b/62115660.\n",
       "    let position = 0;\n",
       "    do {\n",
       "      const length = Math.min(fileData.byteLength - position, MAX_PAYLOAD_SIZE);\n",
       "      const chunk = new Uint8Array(fileData, position, length);\n",
       "      position += length;\n",
       "\n",
       "      const base64 = btoa(String.fromCharCode.apply(null, chunk));\n",
       "      yield {\n",
       "        response: {\n",
       "          action: 'append',\n",
       "          file: file.name,\n",
       "          data: base64,\n",
       "        },\n",
       "      };\n",
       "\n",
       "      let percentDone = fileData.byteLength === 0 ?\n",
       "          100 :\n",
       "          Math.round((position / fileData.byteLength) * 100);\n",
       "      percent.textContent = `${percentDone}% done`;\n",
       "\n",
       "    } while (position < fileData.byteLength);\n",
       "  }\n",
       "\n",
       "  // All done.\n",
       "  yield {\n",
       "    response: {\n",
       "      action: 'complete',\n",
       "    }\n",
       "  };\n",
       "}\n",
       "\n",
       "scope.google = scope.google || {};\n",
       "scope.google.colab = scope.google.colab || {};\n",
       "scope.google.colab._files = {\n",
       "  _uploadFiles,\n",
       "  _uploadFilesContinue,\n",
       "};\n",
       "})(self);\n",
       "</script> "
      ],
      "text/plain": [
       "<IPython.core.display.HTML object>"
      ]
     },
     "metadata": {},
     "output_type": "display_data"
    },
    {
     "ename": "MessageError",
     "evalue": "RangeError: Maximum call stack size exceeded.",
     "output_type": "error",
     "traceback": [
      "\u001b[0;31m---------------------------------------------------------------------------\u001b[0m",
      "\u001b[0;31mMessageError\u001b[0m                              Traceback (most recent call last)",
      "\u001b[0;32m<ipython-input-13-890536bc54ff>\u001b[0m in \u001b[0;36m<cell line: 9>\u001b[0;34m()\u001b[0m\n\u001b[1;32m      7\u001b[0m \u001b[0;34m\u001b[0m\u001b[0m\n\u001b[1;32m      8\u001b[0m \u001b[0;31m# Upload the image\u001b[0m\u001b[0;34m\u001b[0m\u001b[0;34m\u001b[0m\u001b[0m\n\u001b[0;32m----> 9\u001b[0;31m \u001b[0muploaded\u001b[0m \u001b[0;34m=\u001b[0m \u001b[0mfiles\u001b[0m\u001b[0;34m.\u001b[0m\u001b[0mupload\u001b[0m\u001b[0;34m(\u001b[0m\u001b[0;34m)\u001b[0m\u001b[0;34m\u001b[0m\u001b[0;34m\u001b[0m\u001b[0m\n\u001b[0m\u001b[1;32m     10\u001b[0m \u001b[0;34m\u001b[0m\u001b[0m\n\u001b[1;32m     11\u001b[0m \u001b[0;31m# Get the file name\u001b[0m\u001b[0;34m\u001b[0m\u001b[0;34m\u001b[0m\u001b[0m\n",
      "\u001b[0;32m/usr/local/lib/python3.10/dist-packages/google/colab/files.py\u001b[0m in \u001b[0;36mupload\u001b[0;34m(target_dir)\u001b[0m\n\u001b[1;32m     70\u001b[0m   \"\"\"\n\u001b[1;32m     71\u001b[0m \u001b[0;34m\u001b[0m\u001b[0m\n\u001b[0;32m---> 72\u001b[0;31m   \u001b[0muploaded_files\u001b[0m \u001b[0;34m=\u001b[0m \u001b[0m_upload_files\u001b[0m\u001b[0;34m(\u001b[0m\u001b[0mmultiple\u001b[0m\u001b[0;34m=\u001b[0m\u001b[0;32mTrue\u001b[0m\u001b[0;34m)\u001b[0m\u001b[0;34m\u001b[0m\u001b[0;34m\u001b[0m\u001b[0m\n\u001b[0m\u001b[1;32m     73\u001b[0m   \u001b[0;31m# Mapping from original filename to filename as saved locally.\u001b[0m\u001b[0;34m\u001b[0m\u001b[0;34m\u001b[0m\u001b[0m\n\u001b[1;32m     74\u001b[0m   \u001b[0mlocal_filenames\u001b[0m \u001b[0;34m=\u001b[0m \u001b[0mdict\u001b[0m\u001b[0;34m(\u001b[0m\u001b[0;34m)\u001b[0m\u001b[0;34m\u001b[0m\u001b[0;34m\u001b[0m\u001b[0m\n",
      "\u001b[0;32m/usr/local/lib/python3.10/dist-packages/google/colab/files.py\u001b[0m in \u001b[0;36m_upload_files\u001b[0;34m(multiple)\u001b[0m\n\u001b[1;32m    170\u001b[0m \u001b[0;34m\u001b[0m\u001b[0m\n\u001b[1;32m    171\u001b[0m   \u001b[0;32mwhile\u001b[0m \u001b[0mresult\u001b[0m\u001b[0;34m[\u001b[0m\u001b[0;34m'action'\u001b[0m\u001b[0;34m]\u001b[0m \u001b[0;34m!=\u001b[0m \u001b[0;34m'complete'\u001b[0m\u001b[0;34m:\u001b[0m\u001b[0;34m\u001b[0m\u001b[0;34m\u001b[0m\u001b[0m\n\u001b[0;32m--> 172\u001b[0;31m     result = _output.eval_js(\n\u001b[0m\u001b[1;32m    173\u001b[0m         'google.colab._files._uploadFilesContinue(\"{output_id}\")'.format(\n\u001b[1;32m    174\u001b[0m             \u001b[0moutput_id\u001b[0m\u001b[0;34m=\u001b[0m\u001b[0moutput_id\u001b[0m\u001b[0;34m\u001b[0m\u001b[0;34m\u001b[0m\u001b[0m\n",
      "\u001b[0;32m/usr/local/lib/python3.10/dist-packages/google/colab/output/_js.py\u001b[0m in \u001b[0;36meval_js\u001b[0;34m(script, ignore_result, timeout_sec)\u001b[0m\n\u001b[1;32m     38\u001b[0m   \u001b[0;32mif\u001b[0m \u001b[0mignore_result\u001b[0m\u001b[0;34m:\u001b[0m\u001b[0;34m\u001b[0m\u001b[0;34m\u001b[0m\u001b[0m\n\u001b[1;32m     39\u001b[0m     \u001b[0;32mreturn\u001b[0m\u001b[0;34m\u001b[0m\u001b[0;34m\u001b[0m\u001b[0m\n\u001b[0;32m---> 40\u001b[0;31m   \u001b[0;32mreturn\u001b[0m \u001b[0m_message\u001b[0m\u001b[0;34m.\u001b[0m\u001b[0mread_reply_from_input\u001b[0m\u001b[0;34m(\u001b[0m\u001b[0mrequest_id\u001b[0m\u001b[0;34m,\u001b[0m \u001b[0mtimeout_sec\u001b[0m\u001b[0;34m)\u001b[0m\u001b[0;34m\u001b[0m\u001b[0;34m\u001b[0m\u001b[0m\n\u001b[0m\u001b[1;32m     41\u001b[0m \u001b[0;34m\u001b[0m\u001b[0m\n\u001b[1;32m     42\u001b[0m \u001b[0;34m\u001b[0m\u001b[0m\n",
      "\u001b[0;32m/usr/local/lib/python3.10/dist-packages/google/colab/_message.py\u001b[0m in \u001b[0;36mread_reply_from_input\u001b[0;34m(message_id, timeout_sec)\u001b[0m\n\u001b[1;32m    101\u001b[0m     ):\n\u001b[1;32m    102\u001b[0m       \u001b[0;32mif\u001b[0m \u001b[0;34m'error'\u001b[0m \u001b[0;32min\u001b[0m \u001b[0mreply\u001b[0m\u001b[0;34m:\u001b[0m\u001b[0;34m\u001b[0m\u001b[0;34m\u001b[0m\u001b[0m\n\u001b[0;32m--> 103\u001b[0;31m         \u001b[0;32mraise\u001b[0m \u001b[0mMessageError\u001b[0m\u001b[0;34m(\u001b[0m\u001b[0mreply\u001b[0m\u001b[0;34m[\u001b[0m\u001b[0;34m'error'\u001b[0m\u001b[0;34m]\u001b[0m\u001b[0;34m)\u001b[0m\u001b[0;34m\u001b[0m\u001b[0;34m\u001b[0m\u001b[0m\n\u001b[0m\u001b[1;32m    104\u001b[0m       \u001b[0;32mreturn\u001b[0m \u001b[0mreply\u001b[0m\u001b[0;34m.\u001b[0m\u001b[0mget\u001b[0m\u001b[0;34m(\u001b[0m\u001b[0;34m'data'\u001b[0m\u001b[0;34m,\u001b[0m \u001b[0;32mNone\u001b[0m\u001b[0;34m)\u001b[0m\u001b[0;34m\u001b[0m\u001b[0;34m\u001b[0m\u001b[0m\n\u001b[1;32m    105\u001b[0m \u001b[0;34m\u001b[0m\u001b[0m\n",
      "\u001b[0;31mMessageError\u001b[0m: RangeError: Maximum call stack size exceeded."
     ]
    }
   ],
   "source": [
    "from google.colab import files\n",
    "from PIL import Image, ImageOps\n",
    "import io\n",
    "import matplotlib.pyplot as plt\n",
    "import numpy as np\n",
    "import tensorflow as tf\n",
    "\n",
    "# Upload the image\n",
    "uploaded = files.upload()\n",
    "\n",
    "# Get the file name\n",
    "filename = next(iter(uploaded))\n",
    "\n",
    "# Open the uploaded image using PIL\n",
    "img = Image.open(io.BytesIO(uploaded[filename]))\n",
    "\n",
    "# Display the original image and resized image side by side\n",
    "fig, axes = plt.subplots(1, 2, figsize=(12, 6))\n",
    "\n",
    "# Show the original image\n",
    "axes[0].imshow(img)\n",
    "axes[0].set_title(\"Original Image\")\n",
    "axes[0].axis('off')  # Hide the axis for a cleaner view\n",
    "\n",
    "# Convert to grayscale\n",
    "img = img.convert('L')\n",
    "\n",
    "# Thresholding: Convert image to black and white to enhance contrast\n",
    "threshold = 128  # You can adjust this value\n",
    "img = img.point(lambda p: p > threshold and 255)\n",
    "\n",
    "# Resize the image to 28x28 (matching the MNIST input size)\n",
    "resized_img = img.resize((28, 28))\n",
    "\n",
    "# Show the resized image\n",
    "axes[1].imshow(resized_img, cmap='gray')\n",
    "axes[1].set_title(\"Resized Image (28x28)\")\n",
    "axes[1].axis('off')  # Hide the axis for a cleaner view\n",
    "\n",
    "# Display both images\n",
    "plt.tight_layout()\n",
    "plt.show()\n",
    "\n",
    "# Preprocess the resized image: Normalize and reshape\n",
    "img_array = np.array(resized_img) / 255.0  # Normalize to [0, 1]\n",
    "\n",
    "# Reshape the image to match the input shape for the model: (1, 28, 28, 1)\n",
    "img_array = img_array.reshape(1, 28, 28, 1)\n",
    "\n",
    "# Print the shape of the image array (should be (1, 28, 28, 1))\n",
    "print(f\"Shape of the image: {img_array.shape}\")\n",
    "\n",
    "# Load your pre-trained model (if not already loaded)\n",
    "# For example, assuming the model is saved or defined as 'model':\n",
    "# model = tf.keras.models.load_model('your_model_path')  # Uncomment if loading a saved model\n",
    "\n",
    "# Predict the digit using the trained model\n",
    "pred = model.predict(img_array)\n",
    "\n",
    "# Get the predicted label (the digit)\n",
    "predicted_label = pred.argmax()\n",
    "\n",
    "# Print the prediction\n",
    "print(f'The predicted digit is: {predicted_label}')\n"
   ]
  },
  {
   "cell_type": "markdown",
   "metadata": {
    "id": "OgeBMLBh6OWD"
   },
   "source": [
    "# **6. Conclusion**\n",
    "\n",
    "In this lecture, we learned the following:\n",
    "\n",
    "The basic structure of a neural network, including layers, neurons, and activation functions.\n",
    "\n",
    "How to implement a simple neural network using TensorFlow/Keras to classify hand-written digits (MNIST dataset).\n",
    "\n",
    "The process of training and evaluating a neural network.\n",
    "\n",
    "By understanding these fundamentals, you can start building and experimenting with more complex neural networks for various machine learning tasks.\n",
    "\n",
    "Next Steps:\n",
    "\n",
    "Explore deeper architectures (e.g., Convolutional Neural Networks for image data).\n",
    "Experiment with more complex datasets and tasks."
   ]
  },
  {
   "cell_type": "markdown",
   "metadata": {
    "id": "vZdhRVjSKCjw"
   },
   "source": [
    "https://en.wikipedia.org/wiki/MNIST_database\n",
    "\n",
    "---\n",
    "\n"
   ]
  },
  {
   "cell_type": "markdown",
   "metadata": {
    "id": "nsAcMC2e6a1B"
   },
   "source": [
    "Made by Gareth A. Harrison @ BINUS ASO '27"
   ]
  }
 ],
 "metadata": {
  "colab": {
   "provenance": []
  },
  "kernelspec": {
   "display_name": "Python 3",
   "name": "python3"
  },
  "language_info": {
   "name": "python"
  }
 },
 "nbformat": 4,
 "nbformat_minor": 0
}
